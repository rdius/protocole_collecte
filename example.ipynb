{
 "cells": [
  {
   "cell_type": "code",
   "execution_count": 1,
   "metadata": {},
   "outputs": [
    {
     "name": "stdout",
     "output_type": "stream",
     "text": [
      "The time recorded in the file is :  1634651321.0713778\n",
      "The time now  is :  1634651677.3749003\n",
      "A total difference of 5.9383920431137085 minutes\n",
      "It has been less than 15 minutes since the proxies were renewed, therefore sticking with the old proxies\n"
     ]
    }
   ],
   "source": [
    "#from Protocole_complet import search_wiki_\n",
    "#from ipynb.fs.full.Protocole_complet import search_wiki_\n",
    "import glob\n",
    "from ipynb.fs.full.scrap_on_google import advanced_scraper\n",
    "from ipynb.fs.full.similarity_measure import compute_best_terms, compute_best_doc\n",
    "# from ipynb.fs.full.applyBiotex import biotex_terms_extractor"
   ]
  },
  {
   "cell_type": "markdown",
   "metadata": {},
   "source": [
    "### Build thematic corpora\n",
    "    * Build final thematic corpora by specifying an Spatial extent, and the thematic vocabulary concepts file"
   ]
  },
  {
   "cell_type": "code",
   "execution_count": 2,
   "metadata": {},
   "outputs": [
    {
     "name": "stderr",
     "output_type": "stream",
     "text": [
      "Création des dossier pour Montpellier\n",
      "Création du dossier Documents_SRC\n",
      "\n",
      "Lecture de keywords.txt ... \n",
      "\n",
      "Début de la recherche de document concernant la ville de Montpellier\n",
      "Génération des requêtes\n",
      "Nouvelle requête : \"Montpellier\" AND production?agricole\n",
      "\n",
      "URL : https://languedoc.msa.fr/\n",
      "\n",
      "Document sauvegardé.\n",
      "Document web converti en texte brut.\n",
      "Texte nettoyé.\n",
      "\n",
      "Document inséré dans l'inventaire.\n",
      "\n",
      "INFO:collecteDeDonnees_19-10-21:Document inséré dans l'inventaire.\n",
      "\n",
      "URL : https://www.umontpellier.fr/articles/tag/agriculture\n",
      "\n",
      "INFO:collecteDeDonnees_19-10-21:URL : https://www.umontpellier.fr/articles/tag/agriculture\n",
      "\n",
      "Document sauvegardé.\n",
      "INFO:collecteDeDonnees_19-10-21:Document sauvegardé.\n",
      "Document web converti en texte brut.\n",
      "INFO:collecteDeDonnees_19-10-21:Document web converti en texte brut.\n",
      "Texte nettoyé.\n",
      "\n",
      "INFO:collecteDeDonnees_19-10-21:Texte nettoyé.\n",
      "\n"
     ]
    },
    {
     "name": "stdout",
     "output_type": "stream",
     "text": [
      ">>>> html_date : None\n"
     ]
    },
    {
     "name": "stderr",
     "output_type": "stream",
     "text": [
      "Document inséré dans l'inventaire.\n",
      "\n",
      "INFO:collecteDeDonnees_19-10-21:Document inséré dans l'inventaire.\n",
      "\n",
      "URL : https://www.pacajob.com/emploi/domaine_agricole_ville_montpellier-34000.html\n",
      "\n",
      "INFO:collecteDeDonnees_19-10-21:URL : https://www.pacajob.com/emploi/domaine_agricole_ville_montpellier-34000.html\n",
      "\n",
      "Document sauvegardé.\n",
      "INFO:collecteDeDonnees_19-10-21:Document sauvegardé.\n",
      "Document web converti en texte brut.\n",
      "INFO:collecteDeDonnees_19-10-21:Document web converti en texte brut.\n",
      "Texte nettoyé.\n",
      "\n",
      "INFO:collecteDeDonnees_19-10-21:Texte nettoyé.\n",
      "\n",
      "Document inséré dans l'inventaire.\n",
      "\n",
      "INFO:collecteDeDonnees_19-10-21:Document inséré dans l'inventaire.\n",
      "\n",
      "URL : https://www.cairn.info/revue-espaces-et-societes-2014-3-page-49.htm\n",
      "\n",
      "INFO:collecteDeDonnees_19-10-21:URL : https://www.cairn.info/revue-espaces-et-societes-2014-3-page-49.htm\n",
      "\n",
      "Erreur pour l'URL : https://www.cairn.info/revue-espaces-et-societes-2014-3-page-49.htm\n",
      "\n",
      "INFO:collecteDeDonnees_19-10-21:Erreur pour l'URL : https://www.cairn.info/revue-espaces-et-societes-2014-3-page-49.htm\n",
      "\n",
      "URL : http://www.montpellier-supagro.fr/formations/catalogue-des-formations/recherche-d-une-formation/productions-agricoles-integrees-et\n",
      "\n",
      "INFO:collecteDeDonnees_19-10-21:URL : http://www.montpellier-supagro.fr/formations/catalogue-des-formations/recherche-d-une-formation/productions-agricoles-integrees-et\n",
      "\n"
     ]
    },
    {
     "name": "stdout",
     "output_type": "stream",
     "text": [
      "HTTP Error 403: Forbidden\n"
     ]
    },
    {
     "name": "stderr",
     "output_type": "stream",
     "text": [
      "Document sauvegardé.\n",
      "INFO:collecteDeDonnees_19-10-21:Document sauvegardé.\n",
      "Erreur lors de la conversion en texte de la page web.\n",
      "Traceback (most recent call last):\n",
      "  File \"/home/rodrique/Bureau/git/protocole_collecte/scrap_on_google.ipynb\", line 647, in sauvegarde_fichier_advanced\n",
      "    \"# # type(val.isocalendar())\\n\",\n",
      "  File \"/home/rodrique/Bureau/git/protocole_collecte/scrap_on_google.ipynb\", line 470, in convert_html_to_txt\n",
      "    \"    # Motif : JJ/MM/AAAA\\n\",\n",
      "  File \"/home/rodrique/Bureau/git/protocole_collecte/scrap_on_google.ipynb\", line 399, in less_html\n",
      "    \"\\tnew_string = unicodedata.normalize('NFKD', string).encode('ascii', 'ignore').decode('utf-8')\\n\",\n",
      "  File \"/home/rodrique/anaconda3/lib/python3.7/site-packages/dateutil/parser/_parser.py\", line 1374, in parse\n",
      "    return DEFAULTPARSER.parse(timestr, **kwargs)\n",
      "  File \"/home/rodrique/anaconda3/lib/python3.7/site-packages/dateutil/parser/_parser.py\", line 646, in parse\n",
      "    res, skipped_tokens = self._parse(timestr, **kwargs)\n",
      "  File \"/home/rodrique/anaconda3/lib/python3.7/site-packages/dateutil/parser/_parser.py\", line 725, in _parse\n",
      "    l = _timelex.split(timestr)         # Splits the timestr into tokens\n",
      "  File \"/home/rodrique/anaconda3/lib/python3.7/site-packages/dateutil/parser/_parser.py\", line 207, in split\n",
      "    return list(cls(s))\n",
      "  File \"/home/rodrique/anaconda3/lib/python3.7/site-packages/dateutil/parser/_parser.py\", line 76, in __init__\n",
      "    '{itype}'.format(itype=instream.__class__.__name__))\n",
      "TypeError: Parser must be a string or character stream, not datetime\n",
      "ERROR:collecteDeDonnees_19-10-21:Erreur lors de la conversion en texte de la page web.\n",
      "Traceback (most recent call last):\n",
      "  File \"/home/rodrique/Bureau/git/protocole_collecte/scrap_on_google.ipynb\", line 647, in sauvegarde_fichier_advanced\n",
      "    \"# # type(val.isocalendar())\\n\",\n",
      "  File \"/home/rodrique/Bureau/git/protocole_collecte/scrap_on_google.ipynb\", line 470, in convert_html_to_txt\n",
      "    \"    # Motif : JJ/MM/AAAA\\n\",\n",
      "  File \"/home/rodrique/Bureau/git/protocole_collecte/scrap_on_google.ipynb\", line 399, in less_html\n",
      "    \"\\tnew_string = unicodedata.normalize('NFKD', string).encode('ascii', 'ignore').decode('utf-8')\\n\",\n",
      "  File \"/home/rodrique/anaconda3/lib/python3.7/site-packages/dateutil/parser/_parser.py\", line 1374, in parse\n",
      "    return DEFAULTPARSER.parse(timestr, **kwargs)\n",
      "  File \"/home/rodrique/anaconda3/lib/python3.7/site-packages/dateutil/parser/_parser.py\", line 646, in parse\n",
      "    res, skipped_tokens = self._parse(timestr, **kwargs)\n",
      "  File \"/home/rodrique/anaconda3/lib/python3.7/site-packages/dateutil/parser/_parser.py\", line 725, in _parse\n",
      "    l = _timelex.split(timestr)         # Splits the timestr into tokens\n",
      "  File \"/home/rodrique/anaconda3/lib/python3.7/site-packages/dateutil/parser/_parser.py\", line 207, in split\n",
      "    return list(cls(s))\n",
      "  File \"/home/rodrique/anaconda3/lib/python3.7/site-packages/dateutil/parser/_parser.py\", line 76, in __init__\n",
      "    '{itype}'.format(itype=instream.__class__.__name__))\n",
      "TypeError: Parser must be a string or character stream, not datetime\n",
      "URL : https://fr.mappy.com/activite/agriculteurs/34000-montpellier\n",
      "\n",
      "INFO:collecteDeDonnees_19-10-21:URL : https://fr.mappy.com/activite/agriculteurs/34000-montpellier\n",
      "\n"
     ]
    },
    {
     "name": "stdout",
     "output_type": "stream",
     "text": [
      ">>>> html_date : 2021-06-21 00:00:00\n"
     ]
    },
    {
     "name": "stderr",
     "output_type": "stream",
     "text": [
      "Document sauvegardé.\n",
      "INFO:collecteDeDonnees_19-10-21:Document sauvegardé.\n",
      "Document web converti en texte brut.\n",
      "INFO:collecteDeDonnees_19-10-21:Document web converti en texte brut.\n",
      "Texte nettoyé.\n",
      "\n",
      "INFO:collecteDeDonnees_19-10-21:Texte nettoyé.\n",
      "\n",
      "Document inséré dans l'inventaire.\n",
      "\n",
      "INFO:collecteDeDonnees_19-10-21:Document inséré dans l'inventaire.\n",
      "\n",
      "URL : https://www.onisep.fr/Ressources/Univers-Formation/Formations/Post-bac/master-mention-sciences-et-technologies-de-l-agriculture-de-l-alimentation-et-de-l-environnement\n",
      "\n",
      "INFO:collecteDeDonnees_19-10-21:URL : https://www.onisep.fr/Ressources/Univers-Formation/Formations/Post-bac/master-mention-sciences-et-technologies-de-l-agriculture-de-l-alimentation-et-de-l-environnement\n",
      "\n",
      "Document sauvegardé.\n",
      "INFO:collecteDeDonnees_19-10-21:Document sauvegardé.\n",
      "Document web converti en texte brut.\n",
      "INFO:collecteDeDonnees_19-10-21:Document web converti en texte brut.\n",
      "Texte nettoyé.\n",
      "\n",
      "INFO:collecteDeDonnees_19-10-21:Texte nettoyé.\n",
      "\n",
      "Document inséré dans l'inventaire.\n",
      "\n",
      "INFO:collecteDeDonnees_19-10-21:Document inséré dans l'inventaire.\n",
      "\n",
      "URL : https://www.cairn.info/journal-autrepart-2012-3-page-159.htm\n",
      "\n",
      "INFO:collecteDeDonnees_19-10-21:URL : https://www.cairn.info/journal-autrepart-2012-3-page-159.htm\n",
      "\n",
      "Erreur pour l'URL : https://www.cairn.info/journal-autrepart-2012-3-page-159.htm\n",
      "\n",
      "INFO:collecteDeDonnees_19-10-21:Erreur pour l'URL : https://www.cairn.info/journal-autrepart-2012-3-page-159.htm\n",
      "\n",
      "URL : https://www.cirad.fr/nos-activites-notre-impact/filieres-agricoles-tropicales\n",
      "\n",
      "INFO:collecteDeDonnees_19-10-21:URL : https://www.cirad.fr/nos-activites-notre-impact/filieres-agricoles-tropicales\n",
      "\n"
     ]
    },
    {
     "name": "stdout",
     "output_type": "stream",
     "text": [
      "HTTP Error 403: Forbidden\n"
     ]
    },
    {
     "ename": "KeyboardInterrupt",
     "evalue": "",
     "output_type": "error",
     "traceback": [
      "\u001b[0;31m---------------------------------------------------------------------------\u001b[0m",
      "\u001b[0;31mKeyboardInterrupt\u001b[0m                         Traceback (most recent call last)",
      "\u001b[0;32m<ipython-input-2-27742fdb336b>\u001b[0m in \u001b[0;36m<module>\u001b[0;34m\u001b[0m\n\u001b[1;32m      5\u001b[0m \u001b[0;31m# mgdb,mgcol = 'inventaire_medo', 'agriculture' # parameters to be set initially\u001b[0m\u001b[0;34m\u001b[0m\u001b[0;34m\u001b[0m\u001b[0;34m\u001b[0m\u001b[0m\n\u001b[1;32m      6\u001b[0m \u001b[0;31m# for voc_concept in files_list:\u001b[0m\u001b[0;34m\u001b[0m\u001b[0;34m\u001b[0m\u001b[0;34m\u001b[0m\u001b[0m\n\u001b[0;32m----> 7\u001b[0;31m \u001b[0madvanced_scraper\u001b[0m\u001b[0;34m(\u001b[0m\u001b[0mspatial_extent\u001b[0m\u001b[0;34m,\u001b[0m\u001b[0mvoc_concept_file\u001b[0m\u001b[0;34m,\u001b[0m\u001b[0mvoc_concept_file\u001b[0m\u001b[0;34m)\u001b[0m\u001b[0;34m\u001b[0m\u001b[0;34m\u001b[0m\u001b[0m\n\u001b[0m",
      "\u001b[0;32m~/Bureau/git/protocole_collecte/scrap_on_google.ipynb\u001b[0m in \u001b[0;36madvanced_scraper\u001b[0;34m(spatial_extent, voc_concept, site)\u001b[0m\n\u001b[1;32m    778\u001b[0m     \u001b[0;34m\"\\n\"\u001b[0m\u001b[0;34m,\u001b[0m\u001b[0;34m\u001b[0m\u001b[0;34m\u001b[0m\u001b[0m\n\u001b[1;32m    779\u001b[0m     \u001b[0;34m\"    src_file_path = \\\"{0}{1}/Documents_SRC/[{2}]{3}\\\".format(CHEMIN_RESULTATS, ville, origine, nom_document)\\n\"\u001b[0m\u001b[0;34m,\u001b[0m\u001b[0;34m\u001b[0m\u001b[0;34m\u001b[0m\u001b[0m\n\u001b[0;32m--> 780\u001b[0;31m     \u001b[0;34m\"    \\n\"\u001b[0m\u001b[0;34m,\u001b[0m\u001b[0;34m\u001b[0m\u001b[0;34m\u001b[0m\u001b[0m\n\u001b[0m\u001b[1;32m    781\u001b[0m     \u001b[0;34m\"#     print(\\\">>>>>>>\\\", url)\\n\"\u001b[0m\u001b[0;34m,\u001b[0m\u001b[0;34m\u001b[0m\u001b[0;34m\u001b[0m\u001b[0m\n\u001b[1;32m    782\u001b[0m     \u001b[0;34m\"#     print(\\\"#####\\\", src_file_path)\\n\"\u001b[0m\u001b[0;34m,\u001b[0m\u001b[0;34m\u001b[0m\u001b[0;34m\u001b[0m\u001b[0m\n",
      "\u001b[0;32m~/Bureau/git/protocole_collecte/scrap_on_google.ipynb\u001b[0m in \u001b[0;36mrecherche_web_advanced\u001b[0;34m(spatial_extent, voc_concept, motscles, thematic, logger, site)\u001b[0m\n\u001b[1;32m    741\u001b[0m    \u001b[0;34m\"execution_count\"\u001b[0m\u001b[0;34m:\u001b[0m \u001b[0mnull\u001b[0m\u001b[0;34m,\u001b[0m\u001b[0;34m\u001b[0m\u001b[0;34m\u001b[0m\u001b[0m\n\u001b[1;32m    742\u001b[0m    \u001b[0;34m\"metadata\"\u001b[0m\u001b[0;34m:\u001b[0m \u001b[0;34m{\u001b[0m\u001b[0;34m}\u001b[0m\u001b[0;34m,\u001b[0m\u001b[0;34m\u001b[0m\u001b[0;34m\u001b[0m\u001b[0m\n\u001b[0;32m--> 743\u001b[0;31m    \u001b[0;34m\"outputs\"\u001b[0m\u001b[0;34m:\u001b[0m \u001b[0;34m[\u001b[0m\u001b[0;34m]\u001b[0m\u001b[0;34m,\u001b[0m\u001b[0;34m\u001b[0m\u001b[0;34m\u001b[0m\u001b[0m\n\u001b[0m\u001b[1;32m    744\u001b[0m    \u001b[0;34m\"source\"\u001b[0m\u001b[0;34m:\u001b[0m \u001b[0;34m[\u001b[0m\u001b[0;34m]\u001b[0m\u001b[0;34m\u001b[0m\u001b[0;34m\u001b[0m\u001b[0m\n\u001b[1;32m    745\u001b[0m   },\n",
      "\u001b[0;32m~/Bureau/git/protocole_collecte/scrap_on_google.ipynb\u001b[0m in \u001b[0;36msauvegarde_fichier_advanced\u001b[0;34m(ville, url, logger, tc)\u001b[0m\n\u001b[1;32m    604\u001b[0m     \u001b[0;34m\"        @return: Texte brut.\\n\"\u001b[0m\u001b[0;34m,\u001b[0m\u001b[0;34m\u001b[0m\u001b[0;34m\u001b[0m\u001b[0m\n\u001b[1;32m    605\u001b[0m     \u001b[0;34m\"    \\\"\\\"\\\"\\n\"\u001b[0m\u001b[0;34m,\u001b[0m\u001b[0;34m\u001b[0m\u001b[0;34m\u001b[0m\u001b[0m\n\u001b[0;32m--> 606\u001b[0;31m     \u001b[0;34m\"    html_file = open(src_file_path, 'rb').read()\\n\"\u001b[0m\u001b[0;34m,\u001b[0m\u001b[0;34m\u001b[0m\u001b[0;34m\u001b[0m\u001b[0m\n\u001b[0m\u001b[1;32m    607\u001b[0m     \u001b[0;34m\"    dammit = UnicodeDammit(html_file) # src_file_path\\n\"\u001b[0m\u001b[0;34m,\u001b[0m\u001b[0;34m\u001b[0m\u001b[0;34m\u001b[0m\u001b[0m\n\u001b[1;32m    608\u001b[0m     \u001b[0;34m\"#     metadata, html_mini = less_html(html_file.decode(dammit.original_encoding))\\n\"\u001b[0m\u001b[0;34m,\u001b[0m\u001b[0;34m\u001b[0m\u001b[0;34m\u001b[0m\u001b[0m\n",
      "\u001b[0;32m~/anaconda3/lib/python3.7/http/client.py\u001b[0m in \u001b[0;36mread\u001b[0;34m(self, amt)\u001b[0m\n\u001b[1;32m    462\u001b[0m \u001b[0;34m\u001b[0m\u001b[0m\n\u001b[1;32m    463\u001b[0m             \u001b[0;32mif\u001b[0m \u001b[0mself\u001b[0m\u001b[0;34m.\u001b[0m\u001b[0mchunked\u001b[0m\u001b[0;34m:\u001b[0m\u001b[0;34m\u001b[0m\u001b[0;34m\u001b[0m\u001b[0m\n\u001b[0;32m--> 464\u001b[0;31m                 \u001b[0;32mreturn\u001b[0m \u001b[0mself\u001b[0m\u001b[0;34m.\u001b[0m\u001b[0m_readall_chunked\u001b[0m\u001b[0;34m(\u001b[0m\u001b[0;34m)\u001b[0m\u001b[0;34m\u001b[0m\u001b[0;34m\u001b[0m\u001b[0m\n\u001b[0m\u001b[1;32m    465\u001b[0m \u001b[0;34m\u001b[0m\u001b[0m\n\u001b[1;32m    466\u001b[0m             \u001b[0;32mif\u001b[0m \u001b[0mself\u001b[0m\u001b[0;34m.\u001b[0m\u001b[0mlength\u001b[0m \u001b[0;32mis\u001b[0m \u001b[0;32mNone\u001b[0m\u001b[0;34m:\u001b[0m\u001b[0;34m\u001b[0m\u001b[0;34m\u001b[0m\u001b[0m\n",
      "\u001b[0;32m~/anaconda3/lib/python3.7/http/client.py\u001b[0m in \u001b[0;36m_readall_chunked\u001b[0;34m(self)\u001b[0m\n\u001b[1;32m    569\u001b[0m         \u001b[0;32mtry\u001b[0m\u001b[0;34m:\u001b[0m\u001b[0;34m\u001b[0m\u001b[0;34m\u001b[0m\u001b[0m\n\u001b[1;32m    570\u001b[0m             \u001b[0;32mwhile\u001b[0m \u001b[0;32mTrue\u001b[0m\u001b[0;34m:\u001b[0m\u001b[0;34m\u001b[0m\u001b[0;34m\u001b[0m\u001b[0m\n\u001b[0;32m--> 571\u001b[0;31m                 \u001b[0mchunk_left\u001b[0m \u001b[0;34m=\u001b[0m \u001b[0mself\u001b[0m\u001b[0;34m.\u001b[0m\u001b[0m_get_chunk_left\u001b[0m\u001b[0;34m(\u001b[0m\u001b[0;34m)\u001b[0m\u001b[0;34m\u001b[0m\u001b[0;34m\u001b[0m\u001b[0m\n\u001b[0m\u001b[1;32m    572\u001b[0m                 \u001b[0;32mif\u001b[0m \u001b[0mchunk_left\u001b[0m \u001b[0;32mis\u001b[0m \u001b[0;32mNone\u001b[0m\u001b[0;34m:\u001b[0m\u001b[0;34m\u001b[0m\u001b[0;34m\u001b[0m\u001b[0m\n\u001b[1;32m    573\u001b[0m                     \u001b[0;32mbreak\u001b[0m\u001b[0;34m\u001b[0m\u001b[0;34m\u001b[0m\u001b[0m\n",
      "\u001b[0;32m~/anaconda3/lib/python3.7/http/client.py\u001b[0m in \u001b[0;36m_get_chunk_left\u001b[0;34m(self)\u001b[0m\n\u001b[1;32m    552\u001b[0m                 \u001b[0mself\u001b[0m\u001b[0;34m.\u001b[0m\u001b[0m_safe_read\u001b[0m\u001b[0;34m(\u001b[0m\u001b[0;36m2\u001b[0m\u001b[0;34m)\u001b[0m  \u001b[0;31m# toss the CRLF at the end of the chunk\u001b[0m\u001b[0;34m\u001b[0m\u001b[0;34m\u001b[0m\u001b[0m\n\u001b[1;32m    553\u001b[0m             \u001b[0;32mtry\u001b[0m\u001b[0;34m:\u001b[0m\u001b[0;34m\u001b[0m\u001b[0;34m\u001b[0m\u001b[0m\n\u001b[0;32m--> 554\u001b[0;31m                 \u001b[0mchunk_left\u001b[0m \u001b[0;34m=\u001b[0m \u001b[0mself\u001b[0m\u001b[0;34m.\u001b[0m\u001b[0m_read_next_chunk_size\u001b[0m\u001b[0;34m(\u001b[0m\u001b[0;34m)\u001b[0m\u001b[0;34m\u001b[0m\u001b[0;34m\u001b[0m\u001b[0m\n\u001b[0m\u001b[1;32m    555\u001b[0m             \u001b[0;32mexcept\u001b[0m \u001b[0mValueError\u001b[0m\u001b[0;34m:\u001b[0m\u001b[0;34m\u001b[0m\u001b[0;34m\u001b[0m\u001b[0m\n\u001b[1;32m    556\u001b[0m                 \u001b[0;32mraise\u001b[0m \u001b[0mIncompleteRead\u001b[0m\u001b[0;34m(\u001b[0m\u001b[0;34mb''\u001b[0m\u001b[0;34m)\u001b[0m\u001b[0;34m\u001b[0m\u001b[0;34m\u001b[0m\u001b[0m\n",
      "\u001b[0;32m~/anaconda3/lib/python3.7/http/client.py\u001b[0m in \u001b[0;36m_read_next_chunk_size\u001b[0;34m(self)\u001b[0m\n\u001b[1;32m    512\u001b[0m     \u001b[0;32mdef\u001b[0m \u001b[0m_read_next_chunk_size\u001b[0m\u001b[0;34m(\u001b[0m\u001b[0mself\u001b[0m\u001b[0;34m)\u001b[0m\u001b[0;34m:\u001b[0m\u001b[0;34m\u001b[0m\u001b[0;34m\u001b[0m\u001b[0m\n\u001b[1;32m    513\u001b[0m         \u001b[0;31m# Read the next chunk size from the file\u001b[0m\u001b[0;34m\u001b[0m\u001b[0;34m\u001b[0m\u001b[0;34m\u001b[0m\u001b[0m\n\u001b[0;32m--> 514\u001b[0;31m         \u001b[0mline\u001b[0m \u001b[0;34m=\u001b[0m \u001b[0mself\u001b[0m\u001b[0;34m.\u001b[0m\u001b[0mfp\u001b[0m\u001b[0;34m.\u001b[0m\u001b[0mreadline\u001b[0m\u001b[0;34m(\u001b[0m\u001b[0m_MAXLINE\u001b[0m \u001b[0;34m+\u001b[0m \u001b[0;36m1\u001b[0m\u001b[0;34m)\u001b[0m\u001b[0;34m\u001b[0m\u001b[0;34m\u001b[0m\u001b[0m\n\u001b[0m\u001b[1;32m    515\u001b[0m         \u001b[0;32mif\u001b[0m \u001b[0mlen\u001b[0m\u001b[0;34m(\u001b[0m\u001b[0mline\u001b[0m\u001b[0;34m)\u001b[0m \u001b[0;34m>\u001b[0m \u001b[0m_MAXLINE\u001b[0m\u001b[0;34m:\u001b[0m\u001b[0;34m\u001b[0m\u001b[0;34m\u001b[0m\u001b[0m\n\u001b[1;32m    516\u001b[0m             \u001b[0;32mraise\u001b[0m \u001b[0mLineTooLong\u001b[0m\u001b[0;34m(\u001b[0m\u001b[0;34m\"chunk size\"\u001b[0m\u001b[0;34m)\u001b[0m\u001b[0;34m\u001b[0m\u001b[0;34m\u001b[0m\u001b[0m\n",
      "\u001b[0;32m~/anaconda3/lib/python3.7/socket.py\u001b[0m in \u001b[0;36mreadinto\u001b[0;34m(self, b)\u001b[0m\n\u001b[1;32m    587\u001b[0m         \u001b[0;32mwhile\u001b[0m \u001b[0;32mTrue\u001b[0m\u001b[0;34m:\u001b[0m\u001b[0;34m\u001b[0m\u001b[0;34m\u001b[0m\u001b[0m\n\u001b[1;32m    588\u001b[0m             \u001b[0;32mtry\u001b[0m\u001b[0;34m:\u001b[0m\u001b[0;34m\u001b[0m\u001b[0;34m\u001b[0m\u001b[0m\n\u001b[0;32m--> 589\u001b[0;31m                 \u001b[0;32mreturn\u001b[0m \u001b[0mself\u001b[0m\u001b[0;34m.\u001b[0m\u001b[0m_sock\u001b[0m\u001b[0;34m.\u001b[0m\u001b[0mrecv_into\u001b[0m\u001b[0;34m(\u001b[0m\u001b[0mb\u001b[0m\u001b[0;34m)\u001b[0m\u001b[0;34m\u001b[0m\u001b[0;34m\u001b[0m\u001b[0m\n\u001b[0m\u001b[1;32m    590\u001b[0m             \u001b[0;32mexcept\u001b[0m \u001b[0mtimeout\u001b[0m\u001b[0;34m:\u001b[0m\u001b[0;34m\u001b[0m\u001b[0;34m\u001b[0m\u001b[0m\n\u001b[1;32m    591\u001b[0m                 \u001b[0mself\u001b[0m\u001b[0;34m.\u001b[0m\u001b[0m_timeout_occurred\u001b[0m \u001b[0;34m=\u001b[0m \u001b[0;32mTrue\u001b[0m\u001b[0;34m\u001b[0m\u001b[0;34m\u001b[0m\u001b[0m\n",
      "\u001b[0;32m~/anaconda3/lib/python3.7/ssl.py\u001b[0m in \u001b[0;36mrecv_into\u001b[0;34m(self, buffer, nbytes, flags)\u001b[0m\n\u001b[1;32m   1069\u001b[0m                   \u001b[0;34m\"non-zero flags not allowed in calls to recv_into() on %s\"\u001b[0m \u001b[0;34m%\u001b[0m\u001b[0;34m\u001b[0m\u001b[0;34m\u001b[0m\u001b[0m\n\u001b[1;32m   1070\u001b[0m                   self.__class__)\n\u001b[0;32m-> 1071\u001b[0;31m             \u001b[0;32mreturn\u001b[0m \u001b[0mself\u001b[0m\u001b[0;34m.\u001b[0m\u001b[0mread\u001b[0m\u001b[0;34m(\u001b[0m\u001b[0mnbytes\u001b[0m\u001b[0;34m,\u001b[0m \u001b[0mbuffer\u001b[0m\u001b[0;34m)\u001b[0m\u001b[0;34m\u001b[0m\u001b[0;34m\u001b[0m\u001b[0m\n\u001b[0m\u001b[1;32m   1072\u001b[0m         \u001b[0;32melse\u001b[0m\u001b[0;34m:\u001b[0m\u001b[0;34m\u001b[0m\u001b[0;34m\u001b[0m\u001b[0m\n\u001b[1;32m   1073\u001b[0m             \u001b[0;32mreturn\u001b[0m \u001b[0msuper\u001b[0m\u001b[0;34m(\u001b[0m\u001b[0;34m)\u001b[0m\u001b[0;34m.\u001b[0m\u001b[0mrecv_into\u001b[0m\u001b[0;34m(\u001b[0m\u001b[0mbuffer\u001b[0m\u001b[0;34m,\u001b[0m \u001b[0mnbytes\u001b[0m\u001b[0;34m,\u001b[0m \u001b[0mflags\u001b[0m\u001b[0;34m)\u001b[0m\u001b[0;34m\u001b[0m\u001b[0;34m\u001b[0m\u001b[0m\n",
      "\u001b[0;32m~/anaconda3/lib/python3.7/ssl.py\u001b[0m in \u001b[0;36mread\u001b[0;34m(self, len, buffer)\u001b[0m\n\u001b[1;32m    927\u001b[0m         \u001b[0;32mtry\u001b[0m\u001b[0;34m:\u001b[0m\u001b[0;34m\u001b[0m\u001b[0;34m\u001b[0m\u001b[0m\n\u001b[1;32m    928\u001b[0m             \u001b[0;32mif\u001b[0m \u001b[0mbuffer\u001b[0m \u001b[0;32mis\u001b[0m \u001b[0;32mnot\u001b[0m \u001b[0;32mNone\u001b[0m\u001b[0;34m:\u001b[0m\u001b[0;34m\u001b[0m\u001b[0;34m\u001b[0m\u001b[0m\n\u001b[0;32m--> 929\u001b[0;31m                 \u001b[0;32mreturn\u001b[0m \u001b[0mself\u001b[0m\u001b[0;34m.\u001b[0m\u001b[0m_sslobj\u001b[0m\u001b[0;34m.\u001b[0m\u001b[0mread\u001b[0m\u001b[0;34m(\u001b[0m\u001b[0mlen\u001b[0m\u001b[0;34m,\u001b[0m \u001b[0mbuffer\u001b[0m\u001b[0;34m)\u001b[0m\u001b[0;34m\u001b[0m\u001b[0;34m\u001b[0m\u001b[0m\n\u001b[0m\u001b[1;32m    930\u001b[0m             \u001b[0;32melse\u001b[0m\u001b[0;34m:\u001b[0m\u001b[0;34m\u001b[0m\u001b[0;34m\u001b[0m\u001b[0m\n\u001b[1;32m    931\u001b[0m                 \u001b[0;32mreturn\u001b[0m \u001b[0mself\u001b[0m\u001b[0;34m.\u001b[0m\u001b[0m_sslobj\u001b[0m\u001b[0;34m.\u001b[0m\u001b[0mread\u001b[0m\u001b[0;34m(\u001b[0m\u001b[0mlen\u001b[0m\u001b[0;34m)\u001b[0m\u001b[0;34m\u001b[0m\u001b[0;34m\u001b[0m\u001b[0m\n",
      "\u001b[0;31mKeyboardInterrupt\u001b[0m: "
     ]
    }
   ],
   "source": [
    "### Automate for all voc_concepts files\n",
    "# files_list = glob.glob(\"./voc_concept/agriculture.txt\")\n",
    "voc_concept_file =  \"./voc_concept/agriculture.txt\"\n",
    "spatial_extent = 'montpellier'\n",
    "# mgdb,mgcol = 'inventaire_medo', 'agriculture' # parameters to be set initially\n",
    "# for voc_concept in files_list:\n",
    "advanced_scraper(spatial_extent,voc_concept_file,voc_concept_file)"
   ]
  },
  {
   "cell_type": "code",
   "execution_count": null,
   "metadata": {},
   "outputs": [],
   "source": []
  }
 ],
 "metadata": {
  "kernelspec": {
   "display_name": "Python 3",
   "language": "python",
   "name": "python3"
  },
  "language_info": {
   "codemirror_mode": {
    "name": "ipython",
    "version": 3
   },
   "file_extension": ".py",
   "mimetype": "text/x-python",
   "name": "python",
   "nbconvert_exporter": "python",
   "pygments_lexer": "ipython3",
   "version": "3.7.7"
  }
 },
 "nbformat": 4,
 "nbformat_minor": 4
}
